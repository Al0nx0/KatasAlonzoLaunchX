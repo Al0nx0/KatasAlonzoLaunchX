{
 "cells": [
  {
   "cell_type": "markdown",
   "metadata": {},
   "source": [
    "## Un asteroide se acerca a la tierra"
   ]
  },
  {
   "cell_type": "code",
   "execution_count": 31,
   "metadata": {},
   "outputs": [
    {
     "name": "stdout",
     "output_type": "stream",
     "text": [
      "la tierra esta segura\n"
     ]
    }
   ],
   "source": [
    "asteroide = 49\n",
    "vpeligrosa = 25\n",
    "if asteroide <= vpeligrosa:\n",
    "    print('La tierra esta en peligro')\n",
    "else:\n",
    "    print('La tierra esta segura')"
   ]
  },
  {
   "cell_type": "markdown",
   "metadata": {},
   "source": [
    "## Se podra ver el asteroide desde la tierra"
   ]
  },
  {
   "cell_type": "code",
   "execution_count": 34,
   "metadata": {},
   "outputs": [
    {
     "name": "stdout",
     "output_type": "stream",
     "text": [
      "No podras ver el asteroide\n"
     ]
    }
   ],
   "source": [
    "asteroide = 19\n",
    "if asteroide > 20:\n",
    "    print('Podras ver el asteroide')\n",
    "elif asteroide == 20:\n",
    "    print('Podras ver el asteroide')\n",
    "else:\n",
    "    print('No podras ver el asteroide')\n"
   ]
  },
  {
   "cell_type": "markdown",
   "metadata": {},
   "source": [
    "## Velocidad y tamo del asteroide"
   ]
  },
  {
   "cell_type": "code",
   "execution_count": 38,
   "metadata": {},
   "outputs": [
    {
     "name": "stdout",
     "output_type": "stream",
     "text": [
      "Puedes ver el asteroide\n"
     ]
    }
   ],
   "source": [
    "velocidad = 25\n",
    "tamano = 40\n",
    "if velocidad > 25 and tamano > 25:\n",
    "    print('Ls tierra esta en peligro')\n",
    "elif velocidad >= 20:\n",
    "    print('Puedes ver el asteroide')\n",
    "elif tamano < 25:\n",
    "    print('La tierra esta segura')\n",
    "else:\n",
    "    print('no pasa nada')"
   ]
  }
 ],
 "metadata": {
  "interpreter": {
   "hash": "1942e57d7783731c65d07f9b9c0d331331895a1b3b70549391be6d94b1e5de17"
  },
  "kernelspec": {
   "display_name": "Python 3.10.2 64-bit",
   "language": "python",
   "name": "python3"
  },
  "language_info": {
   "codemirror_mode": {
    "name": "ipython",
    "version": 3
   },
   "file_extension": ".py",
   "mimetype": "text/x-python",
   "name": "python",
   "nbconvert_exporter": "python",
   "pygments_lexer": "ipython3",
   "version": "3.10.2"
  },
  "orig_nbformat": 4
 },
 "nbformat": 4,
 "nbformat_minor": 2
}
